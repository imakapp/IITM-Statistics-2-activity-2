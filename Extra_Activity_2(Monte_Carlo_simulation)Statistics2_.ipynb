{
  "nbformat": 4,
  "nbformat_minor": 0,
  "metadata": {
    "colab": {
      "provenance": []
    },
    "kernelspec": {
      "name": "python3",
      "display_name": "Python 3"
    }
  },
  "cells": [
    {
      "cell_type": "markdown",
      "metadata": {
        "id": "Y8gHArc-vs77"
      },
      "source": [
        "# Estimating probability by simulation - Monte Carlo\n",
        "\n",
        "The probability of an event $A$ can be estimated as follows. We can simulate the experiment repeatedly and independently, say $N$ times, and count the number of times the event occurred, say $N_A$.\n",
        "\n",
        "A good estimate of $P(A)$ is the following:\n",
        "$$P(A) \\approx \\frac{N_A}{N}$$\n",
        "As $N$ grows larger and larger, the estimate becomes better and better. This method is generally termed as Monte Carlo simulation.\n",
        "\n",
        "We will first evaluate probability of coin toss described above using Monte Carlo simulations. There are two steps: generate a large number of tosses and count the number of heads or tails. These two steps can be written in a single loop usually.\n",
        "\n",
        "You should run the simulation multiple times to see what probability estimate is obtained each time. You will see that the estimate is close to 0.5."
      ]
    },
    {
      "cell_type": "code",
      "execution_count": null,
      "metadata": {
        "colab": {
          "base_uri": "https://localhost:8080/"
        },
        "id": "Yn3MxagQxYxz",
        "outputId": "22bc3946-7a27-46da-e36d-6e9db91865fe"
      },
      "outputs": [
        {
          "output_type": "stream",
          "name": "stdout",
          "text": [
            "0.504\n"
          ]
        }
      ],
      "source": [
        "import numpy as np\n",
        "def uniform(n, m):\n",
        "  return np.random.randint(1, n+1, size = m)\n",
        "no_heads = 0   #variable for storing number of heads\n",
        "for i in range(1000): #repeat 1000 times\n",
        "  if uniform(2, 1) == 1: #check if coin toss is heads\n",
        "    no_heads = no_heads + 1\n",
        "print(no_heads/1000) #probability estimate by Monte Carlo"
      ]
    },
    {
      "cell_type": "markdown",
      "metadata": {
        "id": "qH8Vqtw0dpgt"
      },
      "source": [
        "# Gambler's ruin (simple random walk)\n",
        "\n",
        "A gambler starting with $k$ units of money plays the following game at a casino:\n",
        "\n",
        "* If he has $\\ge 1$ units of money, a coin is tossed. If heads, the casino pays him 1 unit. If tails, he loses 1 unit to the casino.\n",
        "* If he loses all money, he goes bankrupt and stops.\n",
        "* If he gets $N$ units of money, he wins and stops playing.\n",
        "\n",
        "If $p$ is the probability of heads and $q=1-p$, it can be shown that\n",
        "$$\\text{Pr}(\\text{Bankruptcy})=\\begin{cases}\n",
        "1-k/N,&\\text{ if }p=q=1/2,\\\\\n",
        "\\frac{\\left(\\dfrac{q}{p}\\right)^k-\\left(\\dfrac{q}{p}\\right)^N}{1-\\left(\\dfrac{q}{p}\\right)^N}, &\\text{ if }p\\ne q.\n",
        "\\end{cases}$$\n",
        "You can see some details of the proof of the above in the [Wiki page](https://en.wikipedia.org/wiki/Gambler%27s_ruin). Suppose $x_k$ denotes the probability of bankruptcy starting with $k$ units. The main idea is to condition on the first toss and derive the following recursive equation:\n",
        "$$\\begin{align}\n",
        "x_k&=P(\\text{Bankruptcy}\\ |\\ \\text{first toss is head})\\ p\\ +\\ P(\\text{Bankruptcy}\\ |\\ \\text{first toss is tail})\\ q\\\\\n",
        "&=x_{k+1}p+x_{k-1}q\n",
        "\\end{align}$$\n",
        "with boundary conditions $x_0=1$ and $x_N=0$. Solution of the recursive equation results in the above closed form expression for $x_k$.\n",
        "\n",
        "We are interested in Monte Carlo simulation of Gambler's ruin and verification of the formula for $x_k$. First, we consider the case $p=1/2$."
      ]
    },
    {
      "cell_type": "code",
      "execution_count": null,
      "metadata": {
        "colab": {
          "base_uri": "https://localhost:8080/"
        },
        "id": "9NRYRt5VgAon",
        "outputId": "2ae3985b-a981-4862-9321-38fc263c183e"
      },
      "outputs": [
        {
          "output_type": "stream",
          "name": "stdout",
          "text": [
            "0.09999999999999998\n",
            "0.106\n"
          ]
        }
      ],
      "source": [
        "import numpy as np\n",
        "def uniform(n, m):\n",
        "  return np.random.randint(1, n+1, size = m)\n",
        "no = 0   #variable for storing number of event occurence\n",
        "k = 9; N = 10\n",
        "print(1-k/N)\n",
        "for i in range(1000):\n",
        "  k = 9\n",
        "  while k > 0 and k < N:\n",
        "    if uniform(2, 1) == 1:\n",
        "      k = k + 1\n",
        "    else:\n",
        "      k = k - 1\n",
        "  if k == 0:\n",
        "    no = no + 1\n",
        "print(no/1000) #probability estimate by Monte Carlo"
      ]
    },
    {
      "cell_type": "markdown",
      "source": [
        "# Theoretical vs Computed/Simulated Probabilities\n",
        "\n",
        "- Initial Money (k = 1): Theoretical Probability = 0.9, Simulated Probability = 0.8991\n",
        "\n",
        "- Initial Money (k = 2): Theoretical Probability = 0.8, Simulated Probability = 0.8033\n",
        "\n",
        "- Initial Money (k = 3): Theoretical Probability = 0.7, Simulated Probability = 0.7004\n",
        "\n",
        "- Initial Money (k = 4): Theoretical Probability = 0.6, Simulated Probability = 0.6010\n",
        "\n",
        "- Initial Money (k = 5): Theoretical Probability = 0.5, Simulated Probability = 0.5010\n",
        "\n",
        "- Initial Money (k = 6): Theoretical Probability = 0.4, Simulated Probability = 0.4022\n",
        "\n",
        "- Initial Money (k = 7): Theoretical Probability = 0.3, Simulated Probability = 0.2994\n",
        "\n",
        "- Initial Money (k = 8): Theoretical Probability = 0.2, Simulated Probability = 0.1977\n",
        "\n",
        "- Initial Money (k = 9): Theoretical Probability = 0.1, Simulated Probability = 0.0987"
      ],
      "metadata": {
        "id": "ww4PxMwgipuA"
      }
    },
    {
      "cell_type": "markdown",
      "source": [
        "**Analysis and conclusion**\n",
        " By performing the experiment with different values of initial money (k) with 1,00,000 iterations each and observing the results, we can clearly say that the computed/simulated probability is very close (approximately same) to the theoretical probability given by Pr(Bankruptcy) = 1 - k/N.\n",
        "\n"
      ],
      "metadata": {
        "id": "QxFDjo9Ry_OV"
      }
    }
  ]
}